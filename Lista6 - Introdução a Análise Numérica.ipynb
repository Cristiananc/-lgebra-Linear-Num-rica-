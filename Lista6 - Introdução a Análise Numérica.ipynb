{
 "cells": [
  {
   "cell_type": "code",
   "execution_count": 16,
   "metadata": {},
   "outputs": [],
   "source": [
    "from itertools import combinations"
   ]
  },
  {
   "cell_type": "markdown",
   "metadata": {},
   "source": [
    "Questão 2"
   ]
  },
  {
   "cell_type": "code",
   "execution_count": 7,
   "metadata": {},
   "outputs": [],
   "source": [
    "import numpy as np\n",
    "def questao2(N):\n",
    "    count = 0\n",
    "    for i in range(0,N):\n",
    "        (u,v) = np.random.rand(2)\n",
    "        if abs(u/v -1) >= 0.5:\n",
    "            count += 1\n",
    "    return count/N"
   ]
  },
  {
   "cell_type": "code",
   "execution_count": 23,
   "metadata": {},
   "outputs": [
    {
     "data": {
      "text/plain": [
       "0.583912"
      ]
     },
     "execution_count": 23,
     "metadata": {},
     "output_type": "execute_result"
    }
   ],
   "source": [
    "questao2(1000000)"
   ]
  },
  {
   "cell_type": "markdown",
   "metadata": {},
   "source": [
    "Questão 3"
   ]
  },
  {
   "cell_type": "code",
   "execution_count": 40,
   "metadata": {},
   "outputs": [],
   "source": [
    "def questao2(N, p2):\n",
    "    count = 0\n",
    "    for i in range(0, N):\n",
    "        j1 = np.random.choice(2, p = [0.5, 0.5])\n",
    "        j2 = np.random.choice(2, p = [p2, 1-p2])\n",
    "        if j1 == 0 and j2 == 0:\n",
    "            count += 1\n",
    "    return count/N"
   ]
  },
  {
   "cell_type": "code",
   "execution_count": 54,
   "metadata": {},
   "outputs": [
    {
     "data": {
      "text/plain": [
       "0.15055"
      ]
     },
     "execution_count": 54,
     "metadata": {},
     "output_type": "execute_result"
    }
   ],
   "source": [
    "#A resposta teórica é p/2\n",
    "questao2(100000, 0.3)"
   ]
  },
  {
   "cell_type": "markdown",
   "metadata": {},
   "source": [
    "Questão 5\n",
    "\n",
    "(Jogador 1 escolhe ao acaso e o jogador 2 escolhe a melhor opção restante)\n",
    "\n",
    "A escolha do jogador 2 é baseada no seguinte: dado um número no spinner do jogador 1, quantos de cada spinner restante são maiores do que esse valor "
   ]
  },
  {
   "cell_type": "code",
   "execution_count": 42,
   "metadata": {},
   "outputs": [],
   "source": [
    "def spinner(N):\n",
    "    spinners = [[1,5,9], [3, 4, 8], [2,6,7]]\n",
    "    count1 = 0\n",
    "    count2 = 0\n",
    "    for i in range(0,N):\n",
    "        jogador1_spinner = spinners[np.random.randint(3)]\n",
    "        if jogador1_spinner == 0:\n",
    "            jogador2_spinner = spinners[2]\n",
    "        elif jogador1_spinner == 1:\n",
    "            jogador2_spinner = spinners[0]\n",
    "        else:\n",
    "            jogador2_spinner = spinners[1]\n",
    "        j1 = jogador1_spinner[np.random.randint(3)]\n",
    "        j2 = jogador2_spinner[np.random.randint(3)]\n",
    "        if j1 > j2:\n",
    "            count1 += 1\n",
    "        else:\n",
    "            count2 += 1\n",
    "    return (count1/N, count2/N)"
   ]
  },
  {
   "cell_type": "code",
   "execution_count": 48,
   "metadata": {},
   "outputs": [
    {
     "data": {
      "text/plain": [
       "(0.444538, 0.555462)"
      ]
     },
     "execution_count": 48,
     "metadata": {},
     "output_type": "execute_result"
    }
   ],
   "source": [
    "spinner(1000000)"
   ]
  },
  {
   "cell_type": "markdown",
   "metadata": {},
   "source": [
    "Questão 6\n",
    "\n",
    "(rever interpretação dessa questão)"
   ]
  },
  {
   "cell_type": "code",
   "execution_count": 93,
   "metadata": {},
   "outputs": [],
   "source": [
    "def lancamentos_moedas(k,n):\n",
    "    total = 1\n",
    "    count = 0\n",
    "    moeda = k\n",
    "    while abs((moeda+1)/(k+1) - count/total) > 10**(-2):\n",
    "        soma = 0\n",
    "        moeda = np.random.randint(k)\n",
    "        for i in range(0,n+1):\n",
    "            cara_coroa = np.random.choice(2, p = [(moeda+1)/(k+1), 1 - (moeda+1)/(k+1)])\n",
    "            soma += cara_coroa\n",
    "        if soma == 0:\n",
    "            count += 1\n",
    "        total += 1\n",
    "    return count/(total-1)"
   ]
  },
  {
   "cell_type": "markdown",
   "metadata": {},
   "source": [
    "Questão 7\n",
    "\n",
    "(rever questão)"
   ]
  },
  {
   "cell_type": "code",
   "execution_count": 11,
   "metadata": {},
   "outputs": [],
   "source": [
    "class pontos_circunferencia:\n",
    "    def __init__(self, n, raio):\n",
    "        self.n = n\n",
    "        self.raio = raio\n",
    "        self.unif = [ np.random.rand()*2*3.14 for i in range(0,n)]\n",
    "        self.pontos = [(raio*np.cos(i), raio*np.sin(i)) for i in self.unif]"
   ]
  },
  {
   "cell_type": "code",
   "execution_count": 117,
   "metadata": {},
   "outputs": [],
   "source": [
    "def quest7(N, n, raio):\n",
    "    count = np.zeros(N)\n",
    "    dist = 0\n",
    "    for k in range(0,N):\n",
    "        pontos = pontos_circunferencia(n, raio).pontos\n",
    "        for i in list(combinations(pontos, 2)):\n",
    "            dist = ((i[0][0] - i[1][0])**2 + (i[0][1] - i[1][1])**2)**(0.5)\n",
    "            if dist <  raio:\n",
    "                count[k] += 1\n",
    "    total = n*(n-1)/2\n",
    "    return np.average(count/total)"
   ]
  },
  {
   "cell_type": "code",
   "execution_count": 162,
   "metadata": {},
   "outputs": [
    {
     "data": {
      "text/plain": [
       "0.33778947368421053"
      ]
     },
     "execution_count": 162,
     "metadata": {},
     "output_type": "execute_result"
    }
   ],
   "source": [
    "quest7(100,20, 1)"
   ]
  },
  {
   "cell_type": "markdown",
   "metadata": {},
   "source": [
    "Questão 8"
   ]
  },
  {
   "cell_type": "markdown",
   "metadata": {},
   "source": [
    "Questão 9"
   ]
  },
  {
   "cell_type": "code",
   "execution_count": 199,
   "metadata": {},
   "outputs": [],
   "source": [
    "def quest9(N):\n",
    "    k = np.zeros(N)\n",
    "    for i in range(0, N):\n",
    "        soma = 0\n",
    "        while soma <= 1:\n",
    "            soma = soma + np.random.rand()\n",
    "            k[i] += 1\n",
    "    return np.average(k)"
   ]
  },
  {
   "cell_type": "code",
   "execution_count": 221,
   "metadata": {},
   "outputs": [
    {
     "data": {
      "text/plain": [
       "2.72"
      ]
     },
     "execution_count": 221,
     "metadata": {},
     "output_type": "execute_result"
    }
   ],
   "source": [
    "quest9(100)"
   ]
  },
  {
   "cell_type": "code",
   "execution_count": 222,
   "metadata": {},
   "outputs": [
    {
     "data": {
      "text/plain": [
       "2.738"
      ]
     },
     "execution_count": 222,
     "metadata": {},
     "output_type": "execute_result"
    }
   ],
   "source": [
    "quest9(1000)"
   ]
  },
  {
   "cell_type": "code",
   "execution_count": 228,
   "metadata": {},
   "outputs": [
    {
     "data": {
      "text/plain": [
       "2.7137"
      ]
     },
     "execution_count": 228,
     "metadata": {},
     "output_type": "execute_result"
    }
   ],
   "source": [
    "quest9(10000)"
   ]
  },
  {
   "cell_type": "markdown",
   "metadata": {},
   "source": [
    "Questão 10"
   ]
  },
  {
   "cell_type": "code",
   "execution_count": 232,
   "metadata": {},
   "outputs": [],
   "source": [
    "def quest10(N):\n",
    "    elipse = 0\n",
    "    for i in range(0,N):\n",
    "        (x,y) = np.random.rand(2)\n",
    "        if (40*x**2 + 25*y**2 + y + 9/4 - 52*x*y - 14*x) <= 0:\n",
    "            elipse += 1\n",
    "    return elipse/N"
   ]
  },
  {
   "cell_type": "markdown",
   "metadata": {},
   "source": [
    "item a)"
   ]
  },
  {
   "cell_type": "code",
   "execution_count": 234,
   "metadata": {},
   "outputs": [
    {
     "data": {
      "text/plain": [
       "0.1729"
      ]
     },
     "execution_count": 234,
     "metadata": {},
     "output_type": "execute_result"
    }
   ],
   "source": [
    "quest10(10**4)"
   ]
  },
  {
   "cell_type": "code",
   "execution_count": 236,
   "metadata": {},
   "outputs": [
    {
     "data": {
      "text/plain": [
       "0.174544"
      ]
     },
     "execution_count": 236,
     "metadata": {},
     "output_type": "execute_result"
    }
   ],
   "source": [
    "quest10(10**6)"
   ]
  },
  {
   "cell_type": "markdown",
   "metadata": {},
   "source": [
    "Questão 11"
   ]
  },
  {
   "cell_type": "code",
   "execution_count": 249,
   "metadata": {},
   "outputs": [],
   "source": [
    "def quest11(N):\n",
    "    lancamentos = np.zeros(N)\n",
    "    for i in range(0, N):\n",
    "        k = 0\n",
    "        somas = np.zeros(11)\n",
    "        while sum(somas) < 11:\n",
    "            soma = np.random.randint(1,7) + np.random.randint(1,7)\n",
    "            if somas[soma - 2] == 0:\n",
    "                somas[soma - 2] = 1\n",
    "            k += 1\n",
    "        lancamentos[i] = k \n",
    "    return np.average(lancamentos)"
   ]
  },
  {
   "cell_type": "code",
   "execution_count": 282,
   "metadata": {},
   "outputs": [
    {
     "data": {
      "text/plain": [
       "64.46"
      ]
     },
     "execution_count": 282,
     "metadata": {},
     "output_type": "execute_result"
    }
   ],
   "source": [
    "quest11(100)"
   ]
  },
  {
   "cell_type": "code",
   "execution_count": 288,
   "metadata": {},
   "outputs": [
    {
     "data": {
      "text/plain": [
       "61.1619"
      ]
     },
     "execution_count": 288,
     "metadata": {},
     "output_type": "execute_result"
    }
   ],
   "source": [
    "quest11(10000)"
   ]
  },
  {
   "cell_type": "markdown",
   "metadata": {},
   "source": [
    "Questão 13"
   ]
  },
  {
   "cell_type": "code",
   "execution_count": 385,
   "metadata": {},
   "outputs": [],
   "source": [
    "def quest13(N):\n",
    "    espera25 = 0\n",
    "    for i in range(0, N):\n",
    "        onibus = np.random.rand()*15\n",
    "        if onibus > 10:\n",
    "            espera25 += 1\n",
    "    return espera25/N"
   ]
  },
  {
   "cell_type": "code",
   "execution_count": 417,
   "metadata": {},
   "outputs": [
    {
     "data": {
      "text/plain": [
       "0.3407"
      ]
     },
     "execution_count": 417,
     "metadata": {},
     "output_type": "execute_result"
    }
   ],
   "source": [
    "quest13(10000)"
   ]
  },
  {
   "cell_type": "markdown",
   "metadata": {},
   "source": [
    "Questão 14\n",
    "\n",
    "Use Monte Carlo para aproximar as integrais"
   ]
  },
  {
   "cell_type": "code",
   "execution_count": 9,
   "metadata": {},
   "outputs": [],
   "source": [
    "def fA(x):\n",
    "    return np.exp(x + x**2) "
   ]
  },
  {
   "cell_type": "code",
   "execution_count": 45,
   "metadata": {},
   "outputs": [],
   "source": [
    "def integralA_pontos(N):\n",
    "    integral = 0\n",
    "    for i in range(0,N):\n",
    "        x = np.random.rand()*4 - 2\n",
    "        y = np.random.rand()*np.exp(6)\n",
    "        if y <= np.exp(x + x**2):\n",
    "            integral += 1\n",
    "    return (integral/N)*4*np.exp(6)"
   ]
  },
  {
   "cell_type": "code",
   "execution_count": 63,
   "metadata": {},
   "outputs": [
    {
     "data": {
      "text/plain": [
       "93.26144104930256"
      ]
     },
     "execution_count": 63,
     "metadata": {},
     "output_type": "execute_result"
    }
   ],
   "source": [
    "integralA_pontos(10**6)"
   ]
  },
  {
   "cell_type": "code",
   "execution_count": 69,
   "metadata": {},
   "outputs": [],
   "source": [
    "def integral(N, a, b, func):\n",
    "    f = np.zeros(N)\n",
    "    for i in range(0,N):\n",
    "        xi = np.random.rand()*(b-a) + a\n",
    "        f[i] = func(xi)\n",
    "    return np.average(f)"
   ]
  },
  {
   "cell_type": "code",
   "execution_count": 70,
   "metadata": {},
   "outputs": [
    {
     "data": {
      "text/plain": [
       "22.890636551776975"
      ]
     },
     "execution_count": 70,
     "metadata": {},
     "output_type": "execute_result"
    }
   ],
   "source": [
    "integral(10**2, -2, 2, fA)"
   ]
  },
  {
   "cell_type": "code",
   "execution_count": 64,
   "metadata": {},
   "outputs": [],
   "source": [
    "def fB(x):\n",
    "    return x*(1 + x**2)**(-2) "
   ]
  },
  {
   "cell_type": "code",
   "execution_count": 73,
   "metadata": {},
   "outputs": [],
   "source": [
    "def integral_infinito(N, func):\n",
    "    f = np.zeros(N)\n",
    "    for i in range(0,N):\n",
    "        si = np.random.rand()\n",
    "        f[i] = func(1/si - 1)/si**2\n",
    "    return np.average(f)"
   ]
  },
  {
   "cell_type": "code",
   "execution_count": 80,
   "metadata": {},
   "outputs": [
    {
     "data": {
      "text/plain": [
       "0.5013726006238589"
      ]
     },
     "execution_count": 80,
     "metadata": {},
     "output_type": "execute_result"
    }
   ],
   "source": [
    "integral_infinito(10**4, fB)"
   ]
  },
  {
   "cell_type": "markdown",
   "metadata": {},
   "source": [
    "Questão 15"
   ]
  },
  {
   "cell_type": "code",
   "execution_count": null,
   "metadata": {},
   "outputs": [],
   "source": []
  }
 ],
 "metadata": {
  "kernelspec": {
   "display_name": "Python 3",
   "language": "python",
   "name": "python3"
  },
  "language_info": {
   "codemirror_mode": {
    "name": "ipython",
    "version": 3
   },
   "file_extension": ".py",
   "mimetype": "text/x-python",
   "name": "python",
   "nbconvert_exporter": "python",
   "pygments_lexer": "ipython3",
   "version": "3.6.9"
  }
 },
 "nbformat": 4,
 "nbformat_minor": 4
}
